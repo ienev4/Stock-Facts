{
 "cells": [
  {
   "cell_type": "code",
   "execution_count": 954,
   "id": "7fa1a473",
   "metadata": {},
   "outputs": [],
   "source": [
    "import yfinance as yf\n",
    "import pandas as pd\n",
    "from dateutil.relativedelta import relativedelta\n",
    "import numpy as np\n",
    "pd.set_option('mode.chained_assignment', None)\n",
    "from datetime import datetime"
   ]
  },
  {
   "cell_type": "markdown",
   "id": "9b4b6409",
   "metadata": {},
   "source": [
    "# Data Download"
   ]
  },
  {
   "cell_type": "code",
   "execution_count": 16,
   "id": "9ffd4906",
   "metadata": {},
   "outputs": [
    {
     "name": "stdout",
     "output_type": "stream",
     "text": [
      "[*********************100%***********************]  1 of 1 completed\n"
     ]
    }
   ],
   "source": [
    "aapl=yf.download('AAPL',period='max')"
   ]
  },
  {
   "cell_type": "code",
   "execution_count": 6,
   "id": "e2c5ab36",
   "metadata": {},
   "outputs": [
    {
     "name": "stdout",
     "output_type": "stream",
     "text": [
      "[*********************100%***********************]  1 of 1 completed\n"
     ]
    }
   ],
   "source": [
    "arkk=yf.download('ARKK',period='max')"
   ]
  },
  {
   "cell_type": "code",
   "execution_count": 46,
   "id": "3b51bf53",
   "metadata": {},
   "outputs": [],
   "source": [
    "arkk_close=arkk[['Close']].pct_change()"
   ]
  },
  {
   "cell_type": "code",
   "execution_count": 845,
   "id": "68d6da34",
   "metadata": {},
   "outputs": [],
   "source": [
    "aapl_close=aapl[['Close']].pct_change()"
   ]
  },
  {
   "cell_type": "markdown",
   "id": "f2af3e8e",
   "metadata": {},
   "source": [
    "# Facts for Post CPI Rally"
   ]
  },
  {
   "cell_type": "code",
   "execution_count": 898,
   "id": "6fb42051",
   "metadata": {},
   "outputs": [
    {
     "name": "stdout",
     "output_type": "stream",
     "text": [
      "8.90%\n"
     ]
    }
   ],
   "source": [
    "#Post CPI Rally\n",
    "print(f\"{aapl_close.loc['2022-11-10'][0]*100:0.02f}%\")"
   ]
  },
  {
   "cell_type": "code",
   "execution_count": 149,
   "id": "67b6802c",
   "metadata": {},
   "outputs": [
    {
     "data": {
      "text/html": [
       "<div>\n",
       "<style scoped>\n",
       "    .dataframe tbody tr th:only-of-type {\n",
       "        vertical-align: middle;\n",
       "    }\n",
       "\n",
       "    .dataframe tbody tr th {\n",
       "        vertical-align: top;\n",
       "    }\n",
       "\n",
       "    .dataframe thead th {\n",
       "        text-align: right;\n",
       "    }\n",
       "</style>\n",
       "<table border=\"1\" class=\"dataframe\">\n",
       "  <thead>\n",
       "    <tr style=\"text-align: right;\">\n",
       "      <th></th>\n",
       "      <th>Close</th>\n",
       "    </tr>\n",
       "    <tr>\n",
       "      <th>Date</th>\n",
       "      <th></th>\n",
       "    </tr>\n",
       "  </thead>\n",
       "  <tbody>\n",
       "    <tr>\n",
       "      <th>1980-12-26</th>\n",
       "      <td>0.092309</td>\n",
       "    </tr>\n",
       "    <tr>\n",
       "      <th>1981-04-02</th>\n",
       "      <td>0.087632</td>\n",
       "    </tr>\n",
       "    <tr>\n",
       "      <th>1981-10-02</th>\n",
       "      <td>0.081977</td>\n",
       "    </tr>\n",
       "    <tr>\n",
       "      <th>1981-12-17</th>\n",
       "      <td>0.083328</td>\n",
       "    </tr>\n",
       "    <tr>\n",
       "      <th>1981-12-18</th>\n",
       "      <td>0.082846</td>\n",
       "    </tr>\n",
       "    <tr>\n",
       "      <th>...</th>\n",
       "      <td>...</td>\n",
       "    </tr>\n",
       "    <tr>\n",
       "      <th>2020-03-13</th>\n",
       "      <td>0.119808</td>\n",
       "    </tr>\n",
       "    <tr>\n",
       "      <th>2020-03-24</th>\n",
       "      <td>0.100325</td>\n",
       "    </tr>\n",
       "    <tr>\n",
       "      <th>2020-04-06</th>\n",
       "      <td>0.087237</td>\n",
       "    </tr>\n",
       "    <tr>\n",
       "      <th>2020-07-31</th>\n",
       "      <td>0.104689</td>\n",
       "    </tr>\n",
       "    <tr>\n",
       "      <th>2022-11-10</th>\n",
       "      <td>0.088975</td>\n",
       "    </tr>\n",
       "  </tbody>\n",
       "</table>\n",
       "<p>104 rows × 1 columns</p>\n",
       "</div>"
      ],
      "text/plain": [
       "               Close\n",
       "Date                \n",
       "1980-12-26  0.092309\n",
       "1981-04-02  0.087632\n",
       "1981-10-02  0.081977\n",
       "1981-12-17  0.083328\n",
       "1981-12-18  0.082846\n",
       "...              ...\n",
       "2020-03-13  0.119808\n",
       "2020-03-24  0.100325\n",
       "2020-04-06  0.087237\n",
       "2020-07-31  0.104689\n",
       "2022-11-10  0.088975\n",
       "\n",
       "[104 rows x 1 columns]"
      ]
     },
     "execution_count": 149,
     "metadata": {},
     "output_type": "execute_result"
    }
   ],
   "source": [
    "aapl_close[aapl_close['Close']>0.08]"
   ]
  },
  {
   "cell_type": "code",
   "execution_count": 158,
   "id": "897d13ef",
   "metadata": {},
   "outputs": [
    {
     "data": {
      "text/plain": [
       "Timestamp('2020-07-31 00:00:00')"
      ]
     },
     "execution_count": 158,
     "metadata": {},
     "output_type": "execute_result"
    }
   ],
   "source": [
    "#prior biggest rally\n",
    "aapl_close[aapl_close['Close']>aapl_close.loc['2022-11-10'][0]].index[-1]"
   ]
  },
  {
   "cell_type": "code",
   "execution_count": null,
   "id": "389b825e",
   "metadata": {},
   "outputs": [],
   "source": []
  },
  {
   "cell_type": "code",
   "execution_count": 61,
   "id": "a01eede3",
   "metadata": {},
   "outputs": [
    {
     "name": "stdout",
     "output_type": "stream",
     "text": [
      "4\n"
     ]
    },
    {
     "data": {
      "text/html": [
       "<div>\n",
       "<style scoped>\n",
       "    .dataframe tbody tr th:only-of-type {\n",
       "        vertical-align: middle;\n",
       "    }\n",
       "\n",
       "    .dataframe tbody tr th {\n",
       "        vertical-align: top;\n",
       "    }\n",
       "\n",
       "    .dataframe thead th {\n",
       "        text-align: right;\n",
       "    }\n",
       "</style>\n",
       "<table border=\"1\" class=\"dataframe\">\n",
       "  <thead>\n",
       "    <tr style=\"text-align: right;\">\n",
       "      <th></th>\n",
       "      <th>Close</th>\n",
       "    </tr>\n",
       "    <tr>\n",
       "      <th>Date</th>\n",
       "      <th></th>\n",
       "    </tr>\n",
       "  </thead>\n",
       "  <tbody>\n",
       "    <tr>\n",
       "      <th>2020-03-02</th>\n",
       "      <td>0.093101</td>\n",
       "    </tr>\n",
       "    <tr>\n",
       "      <th>2020-03-13</th>\n",
       "      <td>0.119808</td>\n",
       "    </tr>\n",
       "    <tr>\n",
       "      <th>2020-03-24</th>\n",
       "      <td>0.100325</td>\n",
       "    </tr>\n",
       "    <tr>\n",
       "      <th>2020-07-31</th>\n",
       "      <td>0.104689</td>\n",
       "    </tr>\n",
       "  </tbody>\n",
       "</table>\n",
       "</div>"
      ],
      "text/plain": [
       "               Close\n",
       "Date                \n",
       "2020-03-02  0.093101\n",
       "2020-03-13  0.119808\n",
       "2020-03-24  0.100325\n",
       "2020-07-31  0.104689"
      ]
     },
     "execution_count": 61,
     "metadata": {},
     "output_type": "execute_result"
    }
   ],
   "source": [
    "#how many days since 2020 has the stock rallied more\n",
    "print(len(aapl_close[(aapl_close.loc[:,'Close']>aapl_close.loc['2022-11-10','Close'])&(aapl_close.index>'2020-1-1')]))\n",
    "aapl_close[(aapl_close.loc[:,'Close']>aapl_close.loc['2022-11-10','Close'])&(aapl_close.index>'2020-1-1')]"
   ]
  },
  {
   "cell_type": "code",
   "execution_count": 793,
   "id": "2ac325fb",
   "metadata": {},
   "outputs": [],
   "source": [
    "# #streaks\n",
    "# for i in range(1,len(aapl_close.index)):\n",
    "#     if aapl_close.index.get_loc(aapl_close[(aapl_close['Close']>0)&(aapl_close.index<'2022-11-11')].iloc[-i].name)-aapl_close.index.get_loc(aapl_close[(aapl_close['Close']>0)&(aapl_close.index<'2022-11-11')].iloc[-i-1].name)==1:\n",
    "#         #print(aapl_close.index.get_loc(aapl_close.iloc[-i].name)-aapl_close.index.get_loc(aapl_close.iloc[-i-1].name))\n",
    "#         #print(loc)\n",
    "#         pass\n",
    "#     else:\n",
    "#         #print(aapl_close.index.get_loc(aapl_close.iloc[-i].name)-aapl_close.index.get_loc(aapl_close.iloc[-i-1].name))\n",
    "#         #print(loc)\n",
    "#         if aapl_close[(aapl_close['Close']>0)&(aapl_close.index<'2022-11-11')].iloc[-i][0]>0:\n",
    "#             print(i)\n",
    "#             break\n",
    "#         else:\n",
    "#             print(i-1)\n",
    "#             break\n"
   ]
  },
  {
   "cell_type": "code",
   "execution_count": 796,
   "id": "1bc4dd00",
   "metadata": {},
   "outputs": [
    {
     "data": {
      "text/plain": [
       "'2020-07-31'"
      ]
     },
     "execution_count": 796,
     "metadata": {},
     "output_type": "execute_result"
    }
   ],
   "source": [
    "datetime.strftime((aapl_close[aapl_close['Close']>aapl_close.loc['2022-11-10'][0]].index[-1]),'%Y-%m-%d')"
   ]
  },
  {
   "cell_type": "code",
   "execution_count": 811,
   "id": "de71c34f",
   "metadata": {},
   "outputs": [
    {
     "data": {
      "text/plain": [
       "Timestamp('2022-11-02 00:00:00')"
      ]
     },
     "execution_count": 811,
     "metadata": {},
     "output_type": "execute_result"
    }
   ],
   "source": [
    "#lowest/highest close since? \n",
    "# highest level since:\n",
    "aapl.index[aapl.index.get_loc(aapl[(aapl['Close']>aapl.loc['2022-11-10','Close'])&(aapl.index<'2022-11-10')].index[-1])+1]"
   ]
  },
  {
   "cell_type": "code",
   "execution_count": 817,
   "id": "76c7257b",
   "metadata": {},
   "outputs": [
    {
     "data": {
      "text/plain": [
       "Timestamp('2022-11-10 00:00:00')"
      ]
     },
     "execution_count": 817,
     "metadata": {},
     "output_type": "execute_result"
    }
   ],
   "source": [
    "#lowest close since\n",
    "aapl.index[aapl.index.get_loc(aapl[(aapl['Close']<aapl.loc['2022-11-10','Close'])&(aapl.index<'2022-11-10')].index[-1])+1]"
   ]
  },
  {
   "cell_type": "code",
   "execution_count": 833,
   "id": "a87cc44b",
   "metadata": {},
   "outputs": [
    {
     "name": "stdout",
     "output_type": "stream",
     "text": [
      "Stock WTD performance 5.72%\n"
     ]
    }
   ],
   "source": [
    "#WTD\n",
    "print(f\"Stock WTD performance {(aapl.loc['2022-11-10','Close']-aapl.loc[:'2022-11-10','Close'].resample('W').first().iloc[-1])/aapl.loc[:'2022-11-10','Close'].resample('W').first().iloc[-1]*100:0.02f}%\")"
   ]
  },
  {
   "cell_type": "code",
   "execution_count": 835,
   "id": "cff4354c",
   "metadata": {},
   "outputs": [
    {
     "name": "stdout",
     "output_type": "stream",
     "text": [
      "Stock MTD performance -2.51%\n"
     ]
    }
   ],
   "source": [
    "#MTD\n",
    "print(f\"Stock MTD performance {(aapl.loc['2022-11-10','Close']-aapl.loc[:'2022-11-10','Close'].resample('M').first().iloc[-1])/aapl.loc[:'2022-11-10','Close'].resample('M').first().iloc[-1]*100:0.02f}%\")\n"
   ]
  },
  {
   "cell_type": "code",
   "execution_count": 836,
   "id": "37f44309",
   "metadata": {},
   "outputs": [
    {
     "name": "stdout",
     "output_type": "stream",
     "text": [
      "Stock YTD performance -19.31%\n"
     ]
    }
   ],
   "source": [
    "#YTD\n",
    "print(f\"Stock YTD performance {(aapl.loc['2022-11-10','Close']-aapl.loc[:'2022-11-10','Close'].resample('Y').first().iloc[-1])/aapl.loc[:'2022-11-10','Close'].resample('Y').first().iloc[-1]*100:0.02f}%\")"
   ]
  },
  {
   "cell_type": "code",
   "execution_count": 839,
   "id": "56145972",
   "metadata": {},
   "outputs": [
    {
     "name": "stdout",
     "output_type": "stream",
     "text": [
      "Stock off from 52W High : -19.31%\n",
      "Stock off from 52W Low : 12.92%\n"
     ]
    }
   ],
   "source": [
    "#% from 52W High/Low\n",
    "#alternative would be to get the start timestamp like this: aapl.loc['2022-11-10'].name-relativedelta(years=1)\n",
    "high=aapl.loc[(datetime.strptime('2022-11-10', \"%Y-%m-%d\")-relativedelta(years=1)):'2022-11-10']['Close'].max()\n",
    "low=aapl.loc[(datetime.strptime('2022-11-10', \"%Y-%m-%d\")-relativedelta(years=1)):'2022-11-10']['Close'].min()\n",
    "\n",
    "#% from 52W High/Low\n",
    "print(f\"Stock off from 52W High : {(aapl.loc['2022-11-10','Close']-high)/high*100:0.02f}%\")\n",
    "print(f\"Stock off from 52W Low : {(aapl.loc['2022-11-10','Close']-low)/low*100:0.02f}%\")"
   ]
  },
  {
   "cell_type": "code",
   "execution_count": 843,
   "id": "62c463b6",
   "metadata": {},
   "outputs": [
    {
     "name": "stdout",
     "output_type": "stream",
     "text": [
      "Stock off from All-time high : -19.31%\n",
      "Stock off from All-time low : 298981.59%\n"
     ]
    }
   ],
   "source": [
    "\n",
    "#% from all time high/low\n",
    "all_time_high=aapl.loc[:'2022-11-10','Close'].max()\n",
    "all_time_low=aapl.loc[:'2022-11-10','Close'].min()\n",
    "\n",
    "#% from all time high/low\n",
    "print(f\"Stock off from All-time high : {(aapl.loc['2022-11-10','Close']-all_time_high)/all_time_high*100:0.02f}%\")\n",
    "print(f\"Stock off from All-time low : {(aapl.loc['2022-11-10','Close']-all_time_low)/all_time_low*100:0.02f}%\")"
   ]
  },
  {
   "cell_type": "code",
   "execution_count": null,
   "id": "2af1d691",
   "metadata": {},
   "outputs": [],
   "source": []
  },
  {
   "cell_type": "markdown",
   "id": "19efd29a",
   "metadata": {},
   "source": [
    "# Facts Specific Day"
   ]
  },
  {
   "cell_type": "code",
   "execution_count": null,
   "id": "24f2233d",
   "metadata": {},
   "outputs": [],
   "source": []
  },
  {
   "cell_type": "code",
   "execution_count": null,
   "id": "2ea6cf6b",
   "metadata": {},
   "outputs": [],
   "source": []
  },
  {
   "cell_type": "code",
   "execution_count": null,
   "id": "3b5865eb",
   "metadata": {},
   "outputs": [],
   "source": []
  },
  {
   "cell_type": "code",
   "execution_count": 916,
   "id": "a4a68632",
   "metadata": {},
   "outputs": [
    {
     "name": "stdout",
     "output_type": "stream",
     "text": [
      "[*********************100%***********************]  1 of 1 completed\n",
      "Daily Change- 8.90%\n",
      "Stock WTD performance 5.72%\n",
      "Stock MTD performance -2.51%\n",
      "Stock YTD performance -19.31%\n",
      "Stock off from 52W High : -19.31%\n",
      "Stock off from 52W Low : 12.92%\n",
      "Stock off from All-time high : -19.31%\n",
      "Stock off from All-time low : 298981.59%\n",
      "The most recent bigger daily rally was on 2020-07-31 - 10.47%\n",
      "Highest close since 2022-11-02 00:00:00\n"
     ]
    }
   ],
   "source": [
    "#function looking up specific day rally/selloff\n",
    "def rally_selloff_day(stock,day,day2):\n",
    "    stock=yf.download(stock,period='max')\n",
    "    stock_close=stock[['Close']].pct_change()\n",
    "    moves_pct=stock_close.loc[day][0]\n",
    "    high_since=stock.index[stock.index.get_loc(stock[(stock['Close']>stock.loc[day,'Close'])&(stock.index<day)].index[-1])+1]\n",
    "    low_since=stock.index[stock.index.get_loc(stock[(stock['Close']<stock.loc[day,'Close'])&(stock.index<day)].index[-1])+1]\n",
    "    #round(stock_close.loc['2022-11-10'][0]*100,2)\n",
    "    print(f'Daily Change- {moves_pct*100:0.02f}%')\n",
    "    print(f\"Stock WTD performance {(stock.loc[day,'Close']-stock.loc[:day,'Close'].resample('W').first().iloc[-1])/stock.loc[:day,'Close'].resample('W').first().iloc[-1]*100:0.02f}%\")\n",
    "    print(f\"Stock MTD performance {(stock.loc[day,'Close']-stock.loc[:day,'Close'].resample('M').first().iloc[-1])/stock.loc[:day,'Close'].resample('M').first().iloc[-1]*100:0.02f}%\")\n",
    "    print(f\"Stock YTD performance {(stock.loc[day,'Close']-stock.loc[:day,'Close'].resample('Y').first().iloc[-1])/stock.loc[:day,'Close'].resample('Y').first().iloc[-1]*100:0.02f}%\")\n",
    "    \n",
    "    high=stock.loc[(datetime.strptime(day, \"%Y-%m-%d\")-relativedelta(years=1)):day]['Close'].max()\n",
    "    low=stock.loc[(datetime.strptime(day, \"%Y-%m-%d\")-relativedelta(years=1)):day]['Close'].min()\n",
    "    #% from 52W High/Low\n",
    "    print(f\"Stock off from 52W High : {(stock.loc[day,'Close']-high)/high*100:0.02f}%\")\n",
    "    print(f\"Stock off from 52W Low : {(stock.loc[day,'Close']-low)/low*100:0.02f}%\")\n",
    "    \n",
    "    all_time_high=stock.loc[:day,'Close'].max()\n",
    "    all_time_low=stock.loc[:day,'Close'].min()\n",
    "    #% from all time high/low\n",
    "    print(f\"Stock off from All-time high : {(stock.loc[day,'Close']-all_time_high)/all_time_high*100:0.02f}%\")\n",
    "    print(f\"Stock off from All-time low : {(stock.loc[day,'Close']-all_time_low)/all_time_low*100:0.02f}%\")\n",
    "\n",
    "    if moves_pct>0:\n",
    "        bigger_moves=stock_close[stock_close['Close']>moves_pct]\n",
    "        prior_big_move=stock_close[stock_close['Close']>stock_close.loc[day][0]].index[-1]\n",
    "        other_moves_since=stock_close[(stock_close.loc[:,'Close']>stock_close.loc[day,'Close'])&(stock_close.index>day2)]        \n",
    "        print(f\"The most recent bigger daily rally was on {datetime.strftime(prior_big_move,'%Y-%m-%d')} - {stock_close.loc[prior_big_move][0]*100:0.02f}%\")\n",
    "        print(f'Highest close since {high_since}')\n",
    "    else:\n",
    "        bigger_moves=stock_close[stock_close['Close']<moves_pct]\n",
    "        prior_big_move=stock_close[stock_close['Close']<stock_close.loc[day][0]].index[-1]\n",
    "        other_moves_since=stock_close[(stock_close.loc[:,'Close']<stock_close.loc[day,'Close'])&(stock_close.index>day2)]\n",
    "        print(f\"The most recent bigger daily selloff was on {datetime.strftime(prior_big_move,'%Y-%m-%d')} - {stock_close.loc[prior_big_move][0]*100:0.02f}%\")\n",
    "        print(f'Lowest close since {low_since}')\n",
    "    return moves_pct,bigger_moves,prior_big_move,other_moves_since\n",
    "CPI_rally=rally_selloff_day('AAPL','2022-11-10','2022-01-01')\n",
    "\n",
    "\n"
   ]
  },
  {
   "cell_type": "code",
   "execution_count": null,
   "id": "60774f1a",
   "metadata": {},
   "outputs": [],
   "source": []
  },
  {
   "cell_type": "markdown",
   "id": "6c69a544",
   "metadata": {},
   "source": [
    "# Streaks"
   ]
  },
  {
   "cell_type": "code",
   "execution_count": 917,
   "id": "e4b54b0f",
   "metadata": {},
   "outputs": [
    {
     "name": "stdout",
     "output_type": "stream",
     "text": [
      "[*********************100%***********************]  1 of 1 completed\n"
     ]
    }
   ],
   "source": [
    "df=yf.download('AAPL',period='max')\n",
    "df_close=df[['Close']].pct_change()"
   ]
  },
  {
   "cell_type": "code",
   "execution_count": 918,
   "id": "d33046cf",
   "metadata": {},
   "outputs": [
    {
     "name": "stdout",
     "output_type": "stream",
     "text": [
      "Longest losing streak is 9 days\n"
     ]
    },
    {
     "data": {
      "text/html": [
       "<div>\n",
       "<style scoped>\n",
       "    .dataframe tbody tr th:only-of-type {\n",
       "        vertical-align: middle;\n",
       "    }\n",
       "\n",
       "    .dataframe tbody tr th {\n",
       "        vertical-align: top;\n",
       "    }\n",
       "\n",
       "    .dataframe thead th {\n",
       "        text-align: right;\n",
       "    }\n",
       "</style>\n",
       "<table border=\"1\" class=\"dataframe\">\n",
       "  <thead>\n",
       "    <tr style=\"text-align: right;\">\n",
       "      <th></th>\n",
       "      <th>Close</th>\n",
       "    </tr>\n",
       "    <tr>\n",
       "      <th>Date</th>\n",
       "      <th></th>\n",
       "    </tr>\n",
       "  </thead>\n",
       "  <tbody>\n",
       "    <tr>\n",
       "      <th>1991-06-04</th>\n",
       "      <td>-0.002538</td>\n",
       "    </tr>\n",
       "    <tr>\n",
       "      <th>1991-06-05</th>\n",
       "      <td>-0.022902</td>\n",
       "    </tr>\n",
       "    <tr>\n",
       "      <th>1991-06-06</th>\n",
       "      <td>-0.028644</td>\n",
       "    </tr>\n",
       "    <tr>\n",
       "      <th>1991-06-07</th>\n",
       "      <td>-0.010726</td>\n",
       "    </tr>\n",
       "    <tr>\n",
       "      <th>1991-06-10</th>\n",
       "      <td>-0.002710</td>\n",
       "    </tr>\n",
       "    <tr>\n",
       "      <th>1991-06-11</th>\n",
       "      <td>-0.029889</td>\n",
       "    </tr>\n",
       "    <tr>\n",
       "      <th>1991-06-12</th>\n",
       "      <td>-0.050422</td>\n",
       "    </tr>\n",
       "    <tr>\n",
       "      <th>1991-06-13</th>\n",
       "      <td>-0.005899</td>\n",
       "    </tr>\n",
       "    <tr>\n",
       "      <th>1991-06-14</th>\n",
       "      <td>-0.023737</td>\n",
       "    </tr>\n",
       "  </tbody>\n",
       "</table>\n",
       "</div>"
      ],
      "text/plain": [
       "               Close\n",
       "Date                \n",
       "1991-06-04 -0.002538\n",
       "1991-06-05 -0.022902\n",
       "1991-06-06 -0.028644\n",
       "1991-06-07 -0.010726\n",
       "1991-06-10 -0.002710\n",
       "1991-06-11 -0.029889\n",
       "1991-06-12 -0.050422\n",
       "1991-06-13 -0.005899\n",
       "1991-06-14 -0.023737"
      ]
     },
     "execution_count": 918,
     "metadata": {},
     "output_type": "execute_result"
    }
   ],
   "source": [
    "#longest losing streak\n",
    "def longest_losing_streak(df):\n",
    "    counter=0\n",
    "    max_counter=0\n",
    "    end_day,end=0,0\n",
    "\n",
    "    for num,i in enumerate(df.apply(lambda x: 1 if x['Close']<0 else 0,axis=1)):\n",
    "        if i>0:\n",
    "            counter+=1\n",
    "            end=num\n",
    "        else:\n",
    "            counter=0\n",
    "        if max_counter<=counter:\n",
    "            end_day=end\n",
    "\n",
    "        max_counter=max(max_counter,counter)\n",
    "\n",
    "    print(f'Longest losing streak is {max_counter} days')\n",
    "    return df.iloc[end_day-max_counter+1:end_day+1]\n",
    "longest_streak(df_close)"
   ]
  },
  {
   "cell_type": "code",
   "execution_count": 919,
   "id": "09f87d7f",
   "metadata": {},
   "outputs": [
    {
     "name": "stdout",
     "output_type": "stream",
     "text": [
      "Longest winning streak is 12 days\n"
     ]
    },
    {
     "data": {
      "text/html": [
       "<div>\n",
       "<style scoped>\n",
       "    .dataframe tbody tr th:only-of-type {\n",
       "        vertical-align: middle;\n",
       "    }\n",
       "\n",
       "    .dataframe tbody tr th {\n",
       "        vertical-align: top;\n",
       "    }\n",
       "\n",
       "    .dataframe thead th {\n",
       "        text-align: right;\n",
       "    }\n",
       "</style>\n",
       "<table border=\"1\" class=\"dataframe\">\n",
       "  <thead>\n",
       "    <tr style=\"text-align: right;\">\n",
       "      <th></th>\n",
       "      <th>Close</th>\n",
       "    </tr>\n",
       "    <tr>\n",
       "      <th>Date</th>\n",
       "      <th></th>\n",
       "    </tr>\n",
       "  </thead>\n",
       "  <tbody>\n",
       "    <tr>\n",
       "      <th>2003-04-28</th>\n",
       "      <td>0.038202</td>\n",
       "    </tr>\n",
       "    <tr>\n",
       "      <th>2003-04-29</th>\n",
       "      <td>0.014428</td>\n",
       "    </tr>\n",
       "    <tr>\n",
       "      <th>2003-04-30</th>\n",
       "      <td>0.011383</td>\n",
       "    </tr>\n",
       "    <tr>\n",
       "      <th>2003-05-01</th>\n",
       "      <td>0.009845</td>\n",
       "    </tr>\n",
       "    <tr>\n",
       "      <th>2003-05-02</th>\n",
       "      <td>0.006267</td>\n",
       "    </tr>\n",
       "    <tr>\n",
       "      <th>2003-05-05</th>\n",
       "      <td>0.113492</td>\n",
       "    </tr>\n",
       "    <tr>\n",
       "      <th>2003-05-06</th>\n",
       "      <td>0.087634</td>\n",
       "    </tr>\n",
       "    <tr>\n",
       "      <th>2003-05-07</th>\n",
       "      <td>0.008573</td>\n",
       "    </tr>\n",
       "    <tr>\n",
       "      <th>2003-05-08</th>\n",
       "      <td>0.019830</td>\n",
       "    </tr>\n",
       "    <tr>\n",
       "      <th>2003-05-09</th>\n",
       "      <td>0.016666</td>\n",
       "    </tr>\n",
       "    <tr>\n",
       "      <th>2003-05-12</th>\n",
       "      <td>0.014208</td>\n",
       "    </tr>\n",
       "    <tr>\n",
       "      <th>2003-05-13</th>\n",
       "      <td>0.005926</td>\n",
       "    </tr>\n",
       "  </tbody>\n",
       "</table>\n",
       "</div>"
      ],
      "text/plain": [
       "               Close\n",
       "Date                \n",
       "2003-04-28  0.038202\n",
       "2003-04-29  0.014428\n",
       "2003-04-30  0.011383\n",
       "2003-05-01  0.009845\n",
       "2003-05-02  0.006267\n",
       "2003-05-05  0.113492\n",
       "2003-05-06  0.087634\n",
       "2003-05-07  0.008573\n",
       "2003-05-08  0.019830\n",
       "2003-05-09  0.016666\n",
       "2003-05-12  0.014208\n",
       "2003-05-13  0.005926"
      ]
     },
     "execution_count": 919,
     "metadata": {},
     "output_type": "execute_result"
    }
   ],
   "source": [
    "#longest winning streak\n",
    "def longest_winning_streak(df):\n",
    "    counter=0\n",
    "    max_counter=0\n",
    "    end_day,end=0,0\n",
    "\n",
    "    for num,i in enumerate(df.apply(lambda x: 1 if x['Close']>0 else 0,axis=1)):\n",
    "        if i>0:\n",
    "            counter+=1\n",
    "            end=num\n",
    "        else:\n",
    "            counter=0\n",
    "        if max_counter<=counter:\n",
    "            end_day=end\n",
    "\n",
    "        max_counter=max(max_counter,counter)\n",
    "\n",
    "    print(f'Longest winning streak is {max_counter} days')\n",
    "    return df.iloc[end_day-max_counter+1:end_day+1]\n",
    "longest_winning_streak(df_close)"
   ]
  },
  {
   "cell_type": "code",
   "execution_count": 560,
   "id": "c5a3566c",
   "metadata": {},
   "outputs": [],
   "source": []
  },
  {
   "cell_type": "code",
   "execution_count": 920,
   "id": "ebc74bc4",
   "metadata": {},
   "outputs": [
    {
     "name": "stdout",
     "output_type": "stream",
     "text": [
      "Biggest consecutive rally is 84.59% return in 10 days\n",
      "\n",
      "Daily return during that period\n"
     ]
    },
    {
     "data": {
      "text/html": [
       "<div>\n",
       "<style scoped>\n",
       "    .dataframe tbody tr th:only-of-type {\n",
       "        vertical-align: middle;\n",
       "    }\n",
       "\n",
       "    .dataframe tbody tr th {\n",
       "        vertical-align: top;\n",
       "    }\n",
       "\n",
       "    .dataframe thead th {\n",
       "        text-align: right;\n",
       "    }\n",
       "</style>\n",
       "<table border=\"1\" class=\"dataframe\">\n",
       "  <thead>\n",
       "    <tr style=\"text-align: right;\">\n",
       "      <th></th>\n",
       "      <th>Close</th>\n",
       "      <th>Negative</th>\n",
       "    </tr>\n",
       "    <tr>\n",
       "      <th>Date</th>\n",
       "      <th></th>\n",
       "      <th></th>\n",
       "    </tr>\n",
       "  </thead>\n",
       "  <tbody>\n",
       "    <tr>\n",
       "      <th>1997-07-25</th>\n",
       "      <td>0.027666</td>\n",
       "      <td>0</td>\n",
       "    </tr>\n",
       "    <tr>\n",
       "      <th>1997-07-28</th>\n",
       "      <td>0.011538</td>\n",
       "      <td>0</td>\n",
       "    </tr>\n",
       "    <tr>\n",
       "      <th>1997-07-29</th>\n",
       "      <td>0.003802</td>\n",
       "      <td>0</td>\n",
       "    </tr>\n",
       "    <tr>\n",
       "      <th>1997-07-30</th>\n",
       "      <td>0.053034</td>\n",
       "      <td>0</td>\n",
       "    </tr>\n",
       "    <tr>\n",
       "      <th>1997-07-31</th>\n",
       "      <td>0.007194</td>\n",
       "      <td>0</td>\n",
       "    </tr>\n",
       "    <tr>\n",
       "      <th>1997-08-01</th>\n",
       "      <td>0.096429</td>\n",
       "      <td>0</td>\n",
       "    </tr>\n",
       "    <tr>\n",
       "      <th>1997-08-04</th>\n",
       "      <td>0.029314</td>\n",
       "      <td>0</td>\n",
       "    </tr>\n",
       "    <tr>\n",
       "      <th>1997-08-05</th>\n",
       "      <td>0.000000</td>\n",
       "      <td>0</td>\n",
       "    </tr>\n",
       "    <tr>\n",
       "      <th>1997-08-06</th>\n",
       "      <td>0.332280</td>\n",
       "      <td>0</td>\n",
       "    </tr>\n",
       "    <tr>\n",
       "      <th>1997-08-07</th>\n",
       "      <td>0.109265</td>\n",
       "      <td>0</td>\n",
       "    </tr>\n",
       "  </tbody>\n",
       "</table>\n",
       "</div>"
      ],
      "text/plain": [
       "               Close  Negative\n",
       "Date                          \n",
       "1997-07-25  0.027666         0\n",
       "1997-07-28  0.011538         0\n",
       "1997-07-29  0.003802         0\n",
       "1997-07-30  0.053034         0\n",
       "1997-07-31  0.007194         0\n",
       "1997-08-01  0.096429         0\n",
       "1997-08-04  0.029314         0\n",
       "1997-08-05  0.000000         0\n",
       "1997-08-06  0.332280         0\n",
       "1997-08-07  0.109265         0"
      ]
     },
     "execution_count": 920,
     "metadata": {},
     "output_type": "execute_result"
    }
   ],
   "source": [
    "#biggest rise streak\n",
    "def biggest_rally(df):\n",
    "    #rally=aapl_close.copy()\n",
    "    df['Negative']=df.apply(lambda x: 1 if x['Close']<0 else 0,axis=1)\n",
    "\n",
    "    returns=1\n",
    "    counter,max_counter=0,0\n",
    "    max_returns=1\n",
    "    end_day,end=0,0\n",
    "    for num,i in enumerate(df[\"Negative\"]):\n",
    "        if i<1:\n",
    "            returns=(returns*(1+df['Close'].iloc[num]))\n",
    "            end=num\n",
    "            counter+=1\n",
    "            #print (i,returns,attempt['Close'].iloc[num],attempt.iloc[num].name)\n",
    "        else:\n",
    "            returns=1\n",
    "            counter=0\n",
    "        if max_returns<=returns:\n",
    "            end_day=end\n",
    "\n",
    "            max_returns=max(max_returns,returns)\n",
    "            max_counter=max(max_counter,counter)\n",
    "        #print(returns,attempt.iloc[num].name)\n",
    "    print(f'Biggest consecutive rally is {round((max_returns-1)*100,2)}% return in {max_counter} days')\n",
    "    print('\\nDaily return during that period')\n",
    "    return df.iloc[end_day-max_counter+1:end_day+1]\n",
    "biggest_rally(df_close)"
   ]
  },
  {
   "cell_type": "code",
   "execution_count": 921,
   "id": "1cd277c8",
   "metadata": {},
   "outputs": [
    {
     "name": "stdout",
     "output_type": "stream",
     "text": [
      "Biggest consecutive selloff is -58.29% return in 7 days\n"
     ]
    },
    {
     "data": {
      "text/html": [
       "<div>\n",
       "<style scoped>\n",
       "    .dataframe tbody tr th:only-of-type {\n",
       "        vertical-align: middle;\n",
       "    }\n",
       "\n",
       "    .dataframe tbody tr th {\n",
       "        vertical-align: top;\n",
       "    }\n",
       "\n",
       "    .dataframe thead th {\n",
       "        text-align: right;\n",
       "    }\n",
       "</style>\n",
       "<table border=\"1\" class=\"dataframe\">\n",
       "  <thead>\n",
       "    <tr style=\"text-align: right;\">\n",
       "      <th></th>\n",
       "      <th>Close</th>\n",
       "      <th>Negative</th>\n",
       "      <th>Positive</th>\n",
       "    </tr>\n",
       "    <tr>\n",
       "      <th>Date</th>\n",
       "      <th></th>\n",
       "      <th></th>\n",
       "      <th></th>\n",
       "    </tr>\n",
       "  </thead>\n",
       "  <tbody>\n",
       "    <tr>\n",
       "      <th>2000-09-25</th>\n",
       "      <td>0.025149</td>\n",
       "      <td>0</td>\n",
       "      <td>1</td>\n",
       "    </tr>\n",
       "    <tr>\n",
       "      <th>2000-09-26</th>\n",
       "      <td>-0.038551</td>\n",
       "      <td>1</td>\n",
       "      <td>0</td>\n",
       "    </tr>\n",
       "    <tr>\n",
       "      <th>2000-09-27</th>\n",
       "      <td>-0.048603</td>\n",
       "      <td>1</td>\n",
       "      <td>0</td>\n",
       "    </tr>\n",
       "    <tr>\n",
       "      <th>2000-09-28</th>\n",
       "      <td>0.093231</td>\n",
       "      <td>0</td>\n",
       "      <td>1</td>\n",
       "    </tr>\n",
       "    <tr>\n",
       "      <th>2000-09-29</th>\n",
       "      <td>-0.518692</td>\n",
       "      <td>1</td>\n",
       "      <td>0</td>\n",
       "    </tr>\n",
       "    <tr>\n",
       "      <th>2000-10-02</th>\n",
       "      <td>-0.058251</td>\n",
       "      <td>1</td>\n",
       "      <td>0</td>\n",
       "    </tr>\n",
       "    <tr>\n",
       "      <th>2000-10-03</th>\n",
       "      <td>-0.079896</td>\n",
       "      <td>1</td>\n",
       "      <td>0</td>\n",
       "    </tr>\n",
       "  </tbody>\n",
       "</table>\n",
       "</div>"
      ],
      "text/plain": [
       "               Close  Negative  Positive\n",
       "Date                                    \n",
       "2000-09-25  0.025149         0         1\n",
       "2000-09-26 -0.038551         1         0\n",
       "2000-09-27 -0.048603         1         0\n",
       "2000-09-28  0.093231         0         1\n",
       "2000-09-29 -0.518692         1         0\n",
       "2000-10-02 -0.058251         1         0\n",
       "2000-10-03 -0.079896         1         0"
      ]
     },
     "execution_count": 921,
     "metadata": {},
     "output_type": "execute_result"
    }
   ],
   "source": [
    "#biggest selloff streak\n",
    "def biggest_selloff(df):\n",
    "#     selloff=aapl_close.copy()\n",
    "    df['Positive']=df.apply(lambda x: 1 if x['Close']>0 else 0,axis=1)\n",
    "\n",
    "    returns=1\n",
    "    counter,max_counter=0,0\n",
    "    max_returns=1\n",
    "    end_day,end=0,0\n",
    "    for num,i in enumerate(df[\"Positive\"]):\n",
    "        if i<1:\n",
    "            returns=(returns*(1+df['Close'].iloc[num]))\n",
    "            end=num\n",
    "            counter+=1\n",
    "           # print (i,returns,attempt['Close'].iloc[num],attempt.iloc[num].name)\n",
    "        else:\n",
    "            returns=1\n",
    "            counter=0\n",
    "          #  print(' ')\n",
    "        if max_returns>=returns:\n",
    "            end_day=end\n",
    "\n",
    "            max_returns=min(max_returns,returns)\n",
    "            max_counter=max(max_counter,counter)\n",
    "\n",
    "    print(f'Biggest consecutive selloff is {round((max_returns-1)*100,2)}% return in {max_counter} days')\n",
    "    return df.iloc[end_day-max_counter+1:end_day+1]\n",
    "biggest_selloff(df_close)"
   ]
  },
  {
   "cell_type": "code",
   "execution_count": 864,
   "id": "2d0a09de",
   "metadata": {},
   "outputs": [],
   "source": [
    "#check streaks in general\n",
    "def streaks_prep(df):\n",
    "    #general=aapl_close.copy()\n",
    "    df['Positive']=df.apply(lambda x: 1 if x['Close']>0 else 0,axis=1)\n",
    "    df['Negative']=df.apply(lambda x: 1 if x['Close']<0 else 0,axis=1)\n",
    "\n",
    "    returns_selloff=1\n",
    "    counter_selloff=0\n",
    "    returns_list_selloff=[]\n",
    "    counter_list_selloff=[]\n",
    "    for num,i in enumerate(df[\"Positive\"]):\n",
    "        if i<1:\n",
    "            returns_selloff=(returns_selloff*(1+df['Close'].iloc[num]))\n",
    "            #end=num\n",
    "            counter_selloff+=1\n",
    "\n",
    "           # print (i,returns,attempt['Close'].iloc[num],attempt.iloc[num].name)\n",
    "        else:\n",
    "            returns_selloff=1\n",
    "            counter_selloff=0\n",
    "          #  print(' ')\n",
    "        returns_list_selloff.append(returns_selloff)\n",
    "        counter_list_selloff.append(counter_selloff)\n",
    "    df['Selloff Return']=np.array(returns_list_selloff)-1\n",
    "    df['Selloff Counter']=counter_list_selloff\n",
    "\n",
    "\n",
    "\n",
    "    returns_rally=1\n",
    "    counter_rally=0\n",
    "    returns_list_rally=[]\n",
    "    counter_list_rally=[]\n",
    "    for num,i in enumerate(df[\"Negative\"]):\n",
    "        if i<1:\n",
    "            returns_rally=(returns_rally*(1+df['Close'].iloc[num]))\n",
    "            #end=num\n",
    "            counter_rally+=1\n",
    "            #print (i,returns,attempt['Close'].iloc[num],attempt.iloc[num].name)\n",
    "        else:\n",
    "            returns_rally=1\n",
    "            counter_rally=0\n",
    "        returns_list_rally.append(returns_rally)\n",
    "        counter_list_rally.append(counter_rally)\n",
    "\n",
    "    df['Rally Return']=np.array(returns_list_rally)-1\n",
    "    df['Rally Counter']=counter_list_rally\n",
    "    #with this sort of filtering we can see what the biggest rallies were. \n",
    "    df2=df[df['Rally Counter']!=0]\n",
    "    df2.loc[:,'Check Rally']=df2['Rally Counter'].shift(-1)\n",
    "    #this lets us do the selloff filtering\n",
    "    df3=df[df['Selloff Counter']!=0]\n",
    "    df3.loc[:,'Check Selloff']=df3['Selloff Counter'].shift(-1)\n",
    "    return df,df2,df3"
   ]
  },
  {
   "cell_type": "code",
   "execution_count": 922,
   "id": "e42becf8",
   "metadata": {},
   "outputs": [],
   "source": [
    "gen1,gen2,gen3=streaks_prep(df_close)"
   ]
  },
  {
   "cell_type": "code",
   "execution_count": 1000,
   "id": "590bc36b",
   "metadata": {},
   "outputs": [
    {
     "data": {
      "text/html": [
       "<div>\n",
       "<style scoped>\n",
       "    .dataframe tbody tr th:only-of-type {\n",
       "        vertical-align: middle;\n",
       "    }\n",
       "\n",
       "    .dataframe tbody tr th {\n",
       "        vertical-align: top;\n",
       "    }\n",
       "\n",
       "    .dataframe thead th {\n",
       "        text-align: right;\n",
       "    }\n",
       "</style>\n",
       "<table border=\"1\" class=\"dataframe\">\n",
       "  <thead>\n",
       "    <tr style=\"text-align: right;\">\n",
       "      <th></th>\n",
       "      <th>Close</th>\n",
       "      <th>Positive</th>\n",
       "      <th>Negative</th>\n",
       "      <th>Selloff Return</th>\n",
       "      <th>Selloff Counter</th>\n",
       "      <th>Rally Return</th>\n",
       "      <th>Rally Counter</th>\n",
       "      <th>Check Rally</th>\n",
       "    </tr>\n",
       "    <tr>\n",
       "      <th>Date</th>\n",
       "      <th></th>\n",
       "      <th></th>\n",
       "      <th></th>\n",
       "      <th></th>\n",
       "      <th></th>\n",
       "      <th></th>\n",
       "      <th></th>\n",
       "      <th></th>\n",
       "    </tr>\n",
       "  </thead>\n",
       "  <tbody>\n",
       "    <tr>\n",
       "      <th>1997-08-07</th>\n",
       "      <td>0.109265</td>\n",
       "      <td>1</td>\n",
       "      <td>0</td>\n",
       "      <td>0.0</td>\n",
       "      <td>0</td>\n",
       "      <td>0.845853</td>\n",
       "      <td>10</td>\n",
       "      <td>1.0</td>\n",
       "    </tr>\n",
       "    <tr>\n",
       "      <th>1980-12-29</th>\n",
       "      <td>0.014084</td>\n",
       "      <td>1</td>\n",
       "      <td>0</td>\n",
       "      <td>0.0</td>\n",
       "      <td>0</td>\n",
       "      <td>0.425743</td>\n",
       "      <td>8</td>\n",
       "      <td>1.0</td>\n",
       "    </tr>\n",
       "    <tr>\n",
       "      <th>1987-10-29</th>\n",
       "      <td>0.179107</td>\n",
       "      <td>1</td>\n",
       "      <td>0</td>\n",
       "      <td>0.0</td>\n",
       "      <td>0</td>\n",
       "      <td>0.410716</td>\n",
       "      <td>3</td>\n",
       "      <td>1.0</td>\n",
       "    </tr>\n",
       "    <tr>\n",
       "      <th>2003-05-13</th>\n",
       "      <td>0.005926</td>\n",
       "      <td>1</td>\n",
       "      <td>0</td>\n",
       "      <td>0.0</td>\n",
       "      <td>0</td>\n",
       "      <td>0.398502</td>\n",
       "      <td>12</td>\n",
       "      <td>1.0</td>\n",
       "    </tr>\n",
       "    <tr>\n",
       "      <th>1982-08-26</th>\n",
       "      <td>0.028984</td>\n",
       "      <td>1</td>\n",
       "      <td>0</td>\n",
       "      <td>0.0</td>\n",
       "      <td>0</td>\n",
       "      <td>0.352374</td>\n",
       "      <td>10</td>\n",
       "      <td>1.0</td>\n",
       "    </tr>\n",
       "  </tbody>\n",
       "</table>\n",
       "</div>"
      ],
      "text/plain": [
       "               Close  Positive  Negative  Selloff Return  Selloff Counter  \\\n",
       "Date                                                                        \n",
       "1997-08-07  0.109265         1         0             0.0                0   \n",
       "1980-12-29  0.014084         1         0             0.0                0   \n",
       "1987-10-29  0.179107         1         0             0.0                0   \n",
       "2003-05-13  0.005926         1         0             0.0                0   \n",
       "1982-08-26  0.028984         1         0             0.0                0   \n",
       "\n",
       "            Rally Return  Rally Counter  Check Rally  \n",
       "Date                                                  \n",
       "1997-08-07      0.845853             10          1.0  \n",
       "1980-12-29      0.425743              8          1.0  \n",
       "1987-10-29      0.410716              3          1.0  \n",
       "2003-05-13      0.398502             12          1.0  \n",
       "1982-08-26      0.352374             10          1.0  "
      ]
     },
     "execution_count": 1000,
     "metadata": {},
     "output_type": "execute_result"
    }
   ],
   "source": [
    "#biggest rallies (more than 1 consecutive day)\n",
    "gen2[gen2['Rally Counter']>gen2['Check Rally']].sort_values(by='Rally Return',ascending=False).head()"
   ]
  },
  {
   "cell_type": "code",
   "execution_count": 998,
   "id": "ab96ae9f",
   "metadata": {},
   "outputs": [
    {
     "data": {
      "text/html": [
       "<div>\n",
       "<style scoped>\n",
       "    .dataframe tbody tr th:only-of-type {\n",
       "        vertical-align: middle;\n",
       "    }\n",
       "\n",
       "    .dataframe tbody tr th {\n",
       "        vertical-align: top;\n",
       "    }\n",
       "\n",
       "    .dataframe thead th {\n",
       "        text-align: right;\n",
       "    }\n",
       "</style>\n",
       "<table border=\"1\" class=\"dataframe\">\n",
       "  <thead>\n",
       "    <tr style=\"text-align: right;\">\n",
       "      <th></th>\n",
       "      <th>Close</th>\n",
       "      <th>Positive</th>\n",
       "      <th>Negative</th>\n",
       "      <th>Selloff Return</th>\n",
       "      <th>Selloff Counter</th>\n",
       "      <th>Rally Return</th>\n",
       "      <th>Rally Counter</th>\n",
       "      <th>Check Rally</th>\n",
       "    </tr>\n",
       "    <tr>\n",
       "      <th>Date</th>\n",
       "      <th></th>\n",
       "      <th></th>\n",
       "      <th></th>\n",
       "      <th></th>\n",
       "      <th></th>\n",
       "      <th></th>\n",
       "      <th></th>\n",
       "      <th></th>\n",
       "    </tr>\n",
       "  </thead>\n",
       "  <tbody>\n",
       "    <tr>\n",
       "      <th>1997-08-07</th>\n",
       "      <td>0.109265</td>\n",
       "      <td>1</td>\n",
       "      <td>0</td>\n",
       "      <td>0.0</td>\n",
       "      <td>0</td>\n",
       "      <td>0.845853</td>\n",
       "      <td>10</td>\n",
       "      <td>1.0</td>\n",
       "    </tr>\n",
       "    <tr>\n",
       "      <th>1997-08-06</th>\n",
       "      <td>0.332280</td>\n",
       "      <td>1</td>\n",
       "      <td>0</td>\n",
       "      <td>0.0</td>\n",
       "      <td>0</td>\n",
       "      <td>0.664032</td>\n",
       "      <td>9</td>\n",
       "      <td>10.0</td>\n",
       "    </tr>\n",
       "    <tr>\n",
       "      <th>1980-12-29</th>\n",
       "      <td>0.014084</td>\n",
       "      <td>1</td>\n",
       "      <td>0</td>\n",
       "      <td>0.0</td>\n",
       "      <td>0</td>\n",
       "      <td>0.425743</td>\n",
       "      <td>8</td>\n",
       "      <td>1.0</td>\n",
       "    </tr>\n",
       "    <tr>\n",
       "      <th>1987-10-29</th>\n",
       "      <td>0.179107</td>\n",
       "      <td>1</td>\n",
       "      <td>0</td>\n",
       "      <td>0.0</td>\n",
       "      <td>0</td>\n",
       "      <td>0.410716</td>\n",
       "      <td>3</td>\n",
       "      <td>1.0</td>\n",
       "    </tr>\n",
       "    <tr>\n",
       "      <th>1980-12-26</th>\n",
       "      <td>0.092309</td>\n",
       "      <td>1</td>\n",
       "      <td>0</td>\n",
       "      <td>0.0</td>\n",
       "      <td>0</td>\n",
       "      <td>0.405942</td>\n",
       "      <td>7</td>\n",
       "      <td>8.0</td>\n",
       "    </tr>\n",
       "  </tbody>\n",
       "</table>\n",
       "</div>"
      ],
      "text/plain": [
       "               Close  Positive  Negative  Selloff Return  Selloff Counter  \\\n",
       "Date                                                                        \n",
       "1997-08-07  0.109265         1         0             0.0                0   \n",
       "1997-08-06  0.332280         1         0             0.0                0   \n",
       "1980-12-29  0.014084         1         0             0.0                0   \n",
       "1987-10-29  0.179107         1         0             0.0                0   \n",
       "1980-12-26  0.092309         1         0             0.0                0   \n",
       "\n",
       "            Rally Return  Rally Counter  Check Rally  \n",
       "Date                                                  \n",
       "1997-08-07      0.845853             10          1.0  \n",
       "1997-08-06      0.664032              9         10.0  \n",
       "1980-12-29      0.425743              8          1.0  \n",
       "1987-10-29      0.410716              3          1.0  \n",
       "1980-12-26      0.405942              7          8.0  "
      ]
     },
     "execution_count": 998,
     "metadata": {},
     "output_type": "execute_result"
    }
   ],
   "source": [
    "#biggest rallies (including only daily rallies)\n",
    "gen2.sort_values(by='Rally Return',ascending=False).head()"
   ]
  },
  {
   "cell_type": "code",
   "execution_count": 1001,
   "id": "79c7b7b3",
   "metadata": {},
   "outputs": [
    {
     "data": {
      "text/html": [
       "<div>\n",
       "<style scoped>\n",
       "    .dataframe tbody tr th:only-of-type {\n",
       "        vertical-align: middle;\n",
       "    }\n",
       "\n",
       "    .dataframe tbody tr th {\n",
       "        vertical-align: top;\n",
       "    }\n",
       "\n",
       "    .dataframe thead th {\n",
       "        text-align: right;\n",
       "    }\n",
       "</style>\n",
       "<table border=\"1\" class=\"dataframe\">\n",
       "  <thead>\n",
       "    <tr style=\"text-align: right;\">\n",
       "      <th></th>\n",
       "      <th>Close</th>\n",
       "      <th>Positive</th>\n",
       "      <th>Negative</th>\n",
       "      <th>Selloff Return</th>\n",
       "      <th>Selloff Counter</th>\n",
       "      <th>Rally Return</th>\n",
       "      <th>Rally Counter</th>\n",
       "      <th>Check Selloff</th>\n",
       "    </tr>\n",
       "    <tr>\n",
       "      <th>Date</th>\n",
       "      <th></th>\n",
       "      <th></th>\n",
       "      <th></th>\n",
       "      <th></th>\n",
       "      <th></th>\n",
       "      <th></th>\n",
       "      <th></th>\n",
       "      <th></th>\n",
       "    </tr>\n",
       "  </thead>\n",
       "  <tbody>\n",
       "    <tr>\n",
       "      <th>2000-10-03</th>\n",
       "      <td>-0.079896</td>\n",
       "      <td>0</td>\n",
       "      <td>1</td>\n",
       "      <td>-0.582943</td>\n",
       "      <td>3</td>\n",
       "      <td>0.0</td>\n",
       "      <td>0</td>\n",
       "      <td>1.0</td>\n",
       "    </tr>\n",
       "    <tr>\n",
       "      <th>1987-10-20</th>\n",
       "      <td>-0.054794</td>\n",
       "      <td>0</td>\n",
       "      <td>1</td>\n",
       "      <td>-0.366972</td>\n",
       "      <td>5</td>\n",
       "      <td>0.0</td>\n",
       "      <td>0</td>\n",
       "      <td>1.0</td>\n",
       "    </tr>\n",
       "    <tr>\n",
       "      <th>1993-07-19</th>\n",
       "      <td>-0.068181</td>\n",
       "      <td>0</td>\n",
       "      <td>1</td>\n",
       "      <td>-0.325657</td>\n",
       "      <td>5</td>\n",
       "      <td>0.0</td>\n",
       "      <td>0</td>\n",
       "      <td>1.0</td>\n",
       "    </tr>\n",
       "    <tr>\n",
       "      <th>1987-10-26</th>\n",
       "      <td>-0.211267</td>\n",
       "      <td>0</td>\n",
       "      <td>1</td>\n",
       "      <td>-0.308642</td>\n",
       "      <td>3</td>\n",
       "      <td>0.0</td>\n",
       "      <td>0</td>\n",
       "      <td>1.0</td>\n",
       "    </tr>\n",
       "    <tr>\n",
       "      <th>1998-08-31</th>\n",
       "      <td>-0.087752</td>\n",
       "      <td>0</td>\n",
       "      <td>1</td>\n",
       "      <td>-0.274710</td>\n",
       "      <td>6</td>\n",
       "      <td>0.0</td>\n",
       "      <td>0</td>\n",
       "      <td>1.0</td>\n",
       "    </tr>\n",
       "  </tbody>\n",
       "</table>\n",
       "</div>"
      ],
      "text/plain": [
       "               Close  Positive  Negative  Selloff Return  Selloff Counter  \\\n",
       "Date                                                                        \n",
       "2000-10-03 -0.079896         0         1       -0.582943                3   \n",
       "1987-10-20 -0.054794         0         1       -0.366972                5   \n",
       "1993-07-19 -0.068181         0         1       -0.325657                5   \n",
       "1987-10-26 -0.211267         0         1       -0.308642                3   \n",
       "1998-08-31 -0.087752         0         1       -0.274710                6   \n",
       "\n",
       "            Rally Return  Rally Counter  Check Selloff  \n",
       "Date                                                    \n",
       "2000-10-03           0.0              0            1.0  \n",
       "1987-10-20           0.0              0            1.0  \n",
       "1993-07-19           0.0              0            1.0  \n",
       "1987-10-26           0.0              0            1.0  \n",
       "1998-08-31           0.0              0            1.0  "
      ]
     },
     "execution_count": 1001,
     "metadata": {},
     "output_type": "execute_result"
    }
   ],
   "source": [
    "##biggest selloffs (more than 1 consecutive day)\n",
    "gen3[gen3['Selloff Counter']>gen3['Check Selloff']].sort_values(by='Selloff Return',ascending=True).head()"
   ]
  },
  {
   "cell_type": "code",
   "execution_count": 1003,
   "id": "0e2587cc",
   "metadata": {},
   "outputs": [
    {
     "data": {
      "text/html": [
       "<div>\n",
       "<style scoped>\n",
       "    .dataframe tbody tr th:only-of-type {\n",
       "        vertical-align: middle;\n",
       "    }\n",
       "\n",
       "    .dataframe tbody tr th {\n",
       "        vertical-align: top;\n",
       "    }\n",
       "\n",
       "    .dataframe thead th {\n",
       "        text-align: right;\n",
       "    }\n",
       "</style>\n",
       "<table border=\"1\" class=\"dataframe\">\n",
       "  <thead>\n",
       "    <tr style=\"text-align: right;\">\n",
       "      <th></th>\n",
       "      <th>Close</th>\n",
       "      <th>Positive</th>\n",
       "      <th>Negative</th>\n",
       "      <th>Selloff Return</th>\n",
       "      <th>Selloff Counter</th>\n",
       "      <th>Rally Return</th>\n",
       "      <th>Rally Counter</th>\n",
       "      <th>Check Selloff</th>\n",
       "    </tr>\n",
       "    <tr>\n",
       "      <th>Date</th>\n",
       "      <th></th>\n",
       "      <th></th>\n",
       "      <th></th>\n",
       "      <th></th>\n",
       "      <th></th>\n",
       "      <th></th>\n",
       "      <th></th>\n",
       "      <th></th>\n",
       "    </tr>\n",
       "  </thead>\n",
       "  <tbody>\n",
       "    <tr>\n",
       "      <th>2000-10-03</th>\n",
       "      <td>-0.079896</td>\n",
       "      <td>0</td>\n",
       "      <td>1</td>\n",
       "      <td>-0.582943</td>\n",
       "      <td>3</td>\n",
       "      <td>0.0</td>\n",
       "      <td>0</td>\n",
       "      <td>1.0</td>\n",
       "    </tr>\n",
       "    <tr>\n",
       "      <th>2000-10-02</th>\n",
       "      <td>-0.058251</td>\n",
       "      <td>0</td>\n",
       "      <td>1</td>\n",
       "      <td>-0.546729</td>\n",
       "      <td>2</td>\n",
       "      <td>0.0</td>\n",
       "      <td>0</td>\n",
       "      <td>3.0</td>\n",
       "    </tr>\n",
       "    <tr>\n",
       "      <th>2000-09-29</th>\n",
       "      <td>-0.518692</td>\n",
       "      <td>0</td>\n",
       "      <td>1</td>\n",
       "      <td>-0.518692</td>\n",
       "      <td>1</td>\n",
       "      <td>0.0</td>\n",
       "      <td>0</td>\n",
       "      <td>2.0</td>\n",
       "    </tr>\n",
       "    <tr>\n",
       "      <th>1987-10-20</th>\n",
       "      <td>-0.054794</td>\n",
       "      <td>0</td>\n",
       "      <td>1</td>\n",
       "      <td>-0.366972</td>\n",
       "      <td>5</td>\n",
       "      <td>0.0</td>\n",
       "      <td>0</td>\n",
       "      <td>1.0</td>\n",
       "    </tr>\n",
       "    <tr>\n",
       "      <th>1987-10-19</th>\n",
       "      <td>-0.243524</td>\n",
       "      <td>0</td>\n",
       "      <td>1</td>\n",
       "      <td>-0.330275</td>\n",
       "      <td>4</td>\n",
       "      <td>0.0</td>\n",
       "      <td>0</td>\n",
       "      <td>5.0</td>\n",
       "    </tr>\n",
       "  </tbody>\n",
       "</table>\n",
       "</div>"
      ],
      "text/plain": [
       "               Close  Positive  Negative  Selloff Return  Selloff Counter  \\\n",
       "Date                                                                        \n",
       "2000-10-03 -0.079896         0         1       -0.582943                3   \n",
       "2000-10-02 -0.058251         0         1       -0.546729                2   \n",
       "2000-09-29 -0.518692         0         1       -0.518692                1   \n",
       "1987-10-20 -0.054794         0         1       -0.366972                5   \n",
       "1987-10-19 -0.243524         0         1       -0.330275                4   \n",
       "\n",
       "            Rally Return  Rally Counter  Check Selloff  \n",
       "Date                                                    \n",
       "2000-10-03           0.0              0            1.0  \n",
       "2000-10-02           0.0              0            3.0  \n",
       "2000-09-29           0.0              0            2.0  \n",
       "1987-10-20           0.0              0            1.0  \n",
       "1987-10-19           0.0              0            5.0  "
      ]
     },
     "execution_count": 1003,
     "metadata": {},
     "output_type": "execute_result"
    }
   ],
   "source": [
    "##biggest selloffs (including only daily selloffs)\n",
    "\n",
    "gen3.sort_values(by='Selloff Return',ascending=True).head()"
   ]
  },
  {
   "cell_type": "code",
   "execution_count": 923,
   "id": "dcbe9ee5",
   "metadata": {},
   "outputs": [
    {
     "data": {
      "text/html": [
       "<div>\n",
       "<style scoped>\n",
       "    .dataframe tbody tr th:only-of-type {\n",
       "        vertical-align: middle;\n",
       "    }\n",
       "\n",
       "    .dataframe tbody tr th {\n",
       "        vertical-align: top;\n",
       "    }\n",
       "\n",
       "    .dataframe thead th {\n",
       "        text-align: right;\n",
       "    }\n",
       "</style>\n",
       "<table border=\"1\" class=\"dataframe\">\n",
       "  <thead>\n",
       "    <tr style=\"text-align: right;\">\n",
       "      <th></th>\n",
       "      <th>Close</th>\n",
       "      <th>Cum Return</th>\n",
       "    </tr>\n",
       "    <tr>\n",
       "      <th>Date</th>\n",
       "      <th></th>\n",
       "      <th></th>\n",
       "    </tr>\n",
       "  </thead>\n",
       "  <tbody>\n",
       "    <tr>\n",
       "      <th>1987-10-26</th>\n",
       "      <td>0.250000</td>\n",
       "      <td>NaN</td>\n",
       "    </tr>\n",
       "    <tr>\n",
       "      <th>1987-10-27</th>\n",
       "      <td>0.270089</td>\n",
       "      <td>0.080356</td>\n",
       "    </tr>\n",
       "    <tr>\n",
       "      <th>1987-10-28</th>\n",
       "      <td>0.299107</td>\n",
       "      <td>0.196428</td>\n",
       "    </tr>\n",
       "    <tr>\n",
       "      <th>1987-10-29</th>\n",
       "      <td>0.352679</td>\n",
       "      <td>0.410716</td>\n",
       "    </tr>\n",
       "  </tbody>\n",
       "</table>\n",
       "</div>"
      ],
      "text/plain": [
       "               Close  Cum Return\n",
       "Date                            \n",
       "1987-10-26  0.250000         NaN\n",
       "1987-10-27  0.270089    0.080356\n",
       "1987-10-28  0.299107    0.196428\n",
       "1987-10-29  0.352679    0.410716"
      ]
     },
     "execution_count": 923,
     "metadata": {},
     "output_type": "execute_result"
    }
   ],
   "source": [
    "#assume we want to see the nth largest rally\n",
    "def nth_rally(n,df,gen2):\n",
    "    nth=gen2[gen2['Rally Counter']>gen2['Check Rally']].sort_values(by='Rally Return',ascending=False).iloc[n-1]\n",
    "    rally=df.iloc[int(df.index.get_loc(nth.name)-nth['Rally Counter']):df.index.get_loc(nth.name)+1]\n",
    "    rally['Cum Return']=(1+rally['Close'].pct_change()).cumprod()-1\n",
    "    return rally[['Close','Cum Return']]\n",
    "nth_rally(3,df,gen2)"
   ]
  },
  {
   "cell_type": "code",
   "execution_count": 924,
   "id": "ba4bbb0b",
   "metadata": {},
   "outputs": [
    {
     "data": {
      "text/html": [
       "<div>\n",
       "<style scoped>\n",
       "    .dataframe tbody tr th:only-of-type {\n",
       "        vertical-align: middle;\n",
       "    }\n",
       "\n",
       "    .dataframe tbody tr th {\n",
       "        vertical-align: top;\n",
       "    }\n",
       "\n",
       "    .dataframe thead th {\n",
       "        text-align: right;\n",
       "    }\n",
       "</style>\n",
       "<table border=\"1\" class=\"dataframe\">\n",
       "  <thead>\n",
       "    <tr style=\"text-align: right;\">\n",
       "      <th></th>\n",
       "      <th>Close</th>\n",
       "      <th>Cum Return</th>\n",
       "    </tr>\n",
       "    <tr>\n",
       "      <th>Date</th>\n",
       "      <th></th>\n",
       "      <th></th>\n",
       "    </tr>\n",
       "  </thead>\n",
       "  <tbody>\n",
       "    <tr>\n",
       "      <th>1993-07-12</th>\n",
       "      <td>0.339286</td>\n",
       "      <td>NaN</td>\n",
       "    </tr>\n",
       "    <tr>\n",
       "      <th>1993-07-13</th>\n",
       "      <td>0.332589</td>\n",
       "      <td>-0.019739</td>\n",
       "    </tr>\n",
       "    <tr>\n",
       "      <th>1993-07-14</th>\n",
       "      <td>0.332589</td>\n",
       "      <td>-0.019739</td>\n",
       "    </tr>\n",
       "    <tr>\n",
       "      <th>1993-07-15</th>\n",
       "      <td>0.319196</td>\n",
       "      <td>-0.059213</td>\n",
       "    </tr>\n",
       "    <tr>\n",
       "      <th>1993-07-16</th>\n",
       "      <td>0.245536</td>\n",
       "      <td>-0.276316</td>\n",
       "    </tr>\n",
       "    <tr>\n",
       "      <th>1993-07-19</th>\n",
       "      <td>0.228795</td>\n",
       "      <td>-0.325657</td>\n",
       "    </tr>\n",
       "  </tbody>\n",
       "</table>\n",
       "</div>"
      ],
      "text/plain": [
       "               Close  Cum Return\n",
       "Date                            \n",
       "1993-07-12  0.339286         NaN\n",
       "1993-07-13  0.332589   -0.019739\n",
       "1993-07-14  0.332589   -0.019739\n",
       "1993-07-15  0.319196   -0.059213\n",
       "1993-07-16  0.245536   -0.276316\n",
       "1993-07-19  0.228795   -0.325657"
      ]
     },
     "execution_count": 924,
     "metadata": {},
     "output_type": "execute_result"
    }
   ],
   "source": [
    "#assume we want to see the nth largest selloff\n",
    "def nth_selloff(n,df,gen3):\n",
    "    nth=gen3[gen3['Selloff Counter']>gen3['Check Selloff']].sort_values(by='Selloff Return',ascending=True).iloc[n-1]\n",
    "    selloff=df.iloc[int(df.index.get_loc(nth.name)-nth['Selloff Counter']):df.index.get_loc(nth.name)+1]\n",
    "    selloff['Cum Return']=(1+selloff['Close'].pct_change()).cumprod()-1\n",
    "    return selloff[['Close','Cum Return']]\n",
    "nth_selloff(3,df,gen3)"
   ]
  },
  {
   "cell_type": "code",
   "execution_count": 1024,
   "id": "18f3e4d0",
   "metadata": {},
   "outputs": [
    {
     "name": "stdout",
     "output_type": "stream",
     "text": [
      "Most recent rally ended on : 2022-12-01 00:00:00\n",
      "It was the 661 biggest rally on record\n",
      "\n",
      "Recap of the Rally:\n",
      "Rally Return     0.050577\n",
      "Rally Counter    2.000000\n",
      "Name: 2022-12-01 00:00:00, dtype: float64\n"
     ]
    }
   ],
   "source": [
    "#when was the most recent rally and how did it rank?\n",
    "def most_recent_rally(gen2):\n",
    "    gen2=gen2.fillna(0)\n",
    "    recent_rally=gen2[gen2['Rally Counter']>gen2['Check Rally']].sort_values(by='Rally Return',ascending=False)\n",
    "    print(f'Most recent rally ended on : {recent_rally.index.max()}')\n",
    "    print(f'It was the {recent_rally.index.get_loc(recent_rally.index.max())} biggest rally on record')\n",
    "    print('\\nRecap of the Rally:')\n",
    "    print(recent_rally.loc[recent_rally.index.max(),['Rally Return','Rally Counter']])\n",
    "most_recent_rally(gen2)"
   ]
  },
  {
   "cell_type": "code",
   "execution_count": null,
   "id": "5bd5bfe9",
   "metadata": {},
   "outputs": [],
   "source": []
  },
  {
   "cell_type": "code",
   "execution_count": 1023,
   "id": "58d93712",
   "metadata": {},
   "outputs": [
    {
     "name": "stdout",
     "output_type": "stream",
     "text": [
      "Most recent selloff ended on : 2022-12-02 00:00:00\n",
      "It was the 1375 biggest selloff on record\n",
      "\n",
      "Recap of the Selloff:\n",
      "Selloff Return    -0.003371\n",
      "Selloff Counter    1.000000\n",
      "Name: 2022-12-02 00:00:00, dtype: float64\n"
     ]
    }
   ],
   "source": [
    "#when was the most recent selloff and how did it rank?\n",
    "def most_recent_selloff(gen3):\n",
    "    gen3=gen3.fillna(0)\n",
    "    recent_selloff=gen3[gen3['Selloff Counter']>gen3['Check Selloff']].sort_values(by='Selloff Return',ascending=True)\n",
    "    print(f'Most recent selloff ended on : {recent_selloff.index.max()}')\n",
    "    print(f'It was the {recent_selloff.index.get_loc(recent_selloff.index.max())} biggest selloff on record')\n",
    "    print('\\nRecap of the Selloff:')\n",
    "    print(recent_selloff.loc[recent_selloff.index.max(),['Selloff Return','Selloff Counter']])\n",
    "most_recent_selloff(gen3)"
   ]
  },
  {
   "cell_type": "code",
   "execution_count": null,
   "id": "5f9c997a",
   "metadata": {},
   "outputs": [],
   "source": []
  },
  {
   "cell_type": "code",
   "execution_count": 914,
   "id": "d9806ad0",
   "metadata": {},
   "outputs": [
    {
     "data": {
      "text/plain": [
       "4"
      ]
     },
     "execution_count": 914,
     "metadata": {},
     "output_type": "execute_result"
    }
   ],
   "source": [
    "#number of sellofs for a specified timeframe (in this case month November 2020):\n",
    "recent_selloff.loc['2020-11'].shape[0]"
   ]
  },
  {
   "cell_type": "code",
   "execution_count": null,
   "id": "e02f4470",
   "metadata": {},
   "outputs": [],
   "source": []
  },
  {
   "cell_type": "code",
   "execution_count": 1016,
   "id": "018e1424",
   "metadata": {},
   "outputs": [
    {
     "name": "stdout",
     "output_type": "stream",
     "text": [
      "4 positive days in the past 5\n"
     ]
    }
   ],
   "source": [
    "#streaks2\n",
    "#as long as in 2 of the next 3 days the stock performed the same way, then the streak continues\n",
    "def current_streak(df):\n",
    "    test2=df.loc[:,'Close'].tail(15).to_frame()#>0\n",
    "    test2['Negative']=test2.apply(lambda x: 1 if x['Close']<0 else 0,axis=1)\n",
    "    test2['Positive']=test2.apply(lambda x: 1 if x['Close']>0 else 0,axis=1)\n",
    "    for t,i in enumerate(test2['Positive'].iloc[::-1].shift(-1).rolling(window=3).sum()):\n",
    "        if i<2:\n",
    "            days=(t)\n",
    "            positive=(test2['Positive'].iloc[::-1].iloc[:t].sum())\n",
    "            break\n",
    "\n",
    "    for t,i in enumerate(test2['Negative'].iloc[::-1].shift(-1).rolling(window=3).sum()):\n",
    "        if i<2:\n",
    "            days_2=(t)\n",
    "            negative=(test2['Negative'].iloc[::-1].iloc[:t].sum())\n",
    "            break\n",
    "    if positive>negative:\n",
    "        print(f'{positive} positive days in the past {days}')\n",
    "    else:\n",
    "        print(f'{negative} negative days in the past {days_2}')\n",
    "current_streak(df_close.loc[:'2022-11-11'])        "
   ]
  },
  {
   "cell_type": "code",
   "execution_count": null,
   "id": "38f1609a",
   "metadata": {},
   "outputs": [],
   "source": []
  },
  {
   "cell_type": "code",
   "execution_count": null,
   "id": "0b8368a2",
   "metadata": {},
   "outputs": [],
   "source": []
  },
  {
   "cell_type": "code",
   "execution_count": 1021,
   "id": "8635f9bd",
   "metadata": {},
   "outputs": [],
   "source": [
    "today=datetime.strftime(datetime.today().date(),'%Y-%m-%d')"
   ]
  },
  {
   "cell_type": "code",
   "execution_count": 1022,
   "id": "87b2ff13",
   "metadata": {},
   "outputs": [
    {
     "name": "stdout",
     "output_type": "stream",
     "text": [
      "[*********************100%***********************]  1 of 1 completed\n",
      "6 negative days in the past 7\n",
      "[*********************100%***********************]  1 of 1 completed\n",
      "Daily Change- -1.79%\n",
      "Stock WTD performance 0.00%\n",
      "Stock MTD performance -1.91%\n",
      "Stock YTD performance -16.63%\n",
      "Stock off from 52W High : -16.63%\n",
      "Stock off from 52W Low : 11.79%\n",
      "Stock off from All-time high : -16.63%\n",
      "Stock off from All-time low : 23902.64%\n",
      "The most recent bigger daily selloff was on 2022-11-09 - -2.08%\n",
      "Lowest close since 2022-11-30 00:00:00\n",
      "\n",
      "\n",
      "Most recent rally ended on - 2022-11-30 00:00:00\n",
      "It was the 486 biggest rally on record\n",
      "\n",
      "Recap of the Rally:\n",
      "Rally Return     0.030948\n",
      "Rally Counter    1.000000\n",
      "Name: 2022-11-30 00:00:00, dtype: float64\n",
      "\n",
      "\n",
      "Most recent selloff ended on - 2022-12-05 00:00:00\n",
      "It was the 814 biggest selloff on record\n",
      "\n",
      "Recap of the Selloff:\n",
      "Selloff Return    -0.019919\n",
      "Selloff Counter    3.000000\n",
      "Name: 2022-12-05 00:00:00, dtype: float64\n"
     ]
    }
   ],
   "source": [
    "#all facts in one place:\n",
    "def all_facts(stock,day1,day2):\n",
    "    df=yf.download(stock,period='max')\n",
    "    df_close=df[['Close']].pct_change()\n",
    "    gen1,gen2,gen3=streaks_prep(df_close)\n",
    "    current_streak(df_close.loc[:day1])\n",
    "    rally_selloff_day(stock,day1,day2)\n",
    "    print('\\n')\n",
    "    most_recent_rally(gen2.loc[:day1])\n",
    "    print('\\n')\n",
    "    most_recent_selloff(gen3.loc[:day1])\n",
    "all_facts('^GSPC',today,'2022-01-01')"
   ]
  }
 ],
 "metadata": {
  "kernelspec": {
   "display_name": "Python 3 (ipykernel)",
   "language": "python",
   "name": "python3"
  },
  "language_info": {
   "codemirror_mode": {
    "name": "ipython",
    "version": 3
   },
   "file_extension": ".py",
   "mimetype": "text/x-python",
   "name": "python",
   "nbconvert_exporter": "python",
   "pygments_lexer": "ipython3",
   "version": "3.9.7"
  }
 },
 "nbformat": 4,
 "nbformat_minor": 5
}
